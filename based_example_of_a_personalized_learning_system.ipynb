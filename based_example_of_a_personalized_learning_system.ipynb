{
  "nbformat": 4,
  "nbformat_minor": 0,
  "metadata": {
    "colab": {
      "provenance": [],
      "authorship_tag": "ABX9TyP9cpOzcTi+TaYfxggM2vIS",
      "include_colab_link": true
    },
    "kernelspec": {
      "name": "python3",
      "display_name": "Python 3"
    },
    "language_info": {
      "name": "python"
    }
  },
  "cells": [
    {
      "cell_type": "markdown",
      "metadata": {
        "id": "view-in-github",
        "colab_type": "text"
      },
      "source": [
        "<a href=\"https://colab.research.google.com/github/BaconLN/Base/blob/main/based_example_of_a_personalized_learning_system.ipynb\" target=\"_parent\"><img src=\"https://colab.research.google.com/assets/colab-badge.svg\" alt=\"Open In Colab\"/></a>"
      ]
    },
    {
      "cell_type": "code",
      "execution_count": null,
      "metadata": {
        "colab": {
          "base_uri": "https://localhost:8080/"
        },
        "id": "bezEPbfxKrHG",
        "outputId": "11e9e3f2-7335-4e36-d84c-636218ba5598"
      },
      "outputs": [
        {
          "output_type": "stream",
          "name": "stdout",
          "text": [
            "Please enter the subject (math or language): language\n",
            "Your quiz score is: 52\n",
            "Based on your score, we recommend the following learning material:\n",
            "Content: Grammar rules and paragraph writing\n",
            "Difficulty: medium\n"
          ]
        }
      ],
      "source": [
        "# Define a dictionary of learning materials and their difficulty levels\n",
        "learning_materials = {\n",
        "    \"easy_math\": {\n",
        "        \"content\": \"Basic arithmetic operations like addition and subtraction\",\n",
        "        \"difficulty\": \"easy\"\n",
        "    },\n",
        "    \"medium_math\": {\n",
        "        \"content\": \"Multiplication and division of multi - digit numbers\",\n",
        "        \"difficulty\": \"medium\"\n",
        "    },\n",
        "    \"hard_math\": {\n",
        "        \"content\": \"Algebraic equations and problem - solving\",\n",
        "        \"difficulty\": \"hard\"\n",
        "    },\n",
        "    \"easy_language\": {\n",
        "        \"content\": \"Vocabulary building and simple sentence construction\",\n",
        "        \"difficulty\": \"easy\"\n",
        "    },\n",
        "    \"medium_language\": {\n",
        "        \"content\": \"Grammar rules and paragraph writing\",\n",
        "        \"difficulty\": \"medium\"\n",
        "    },\n",
        "    \"hard_language\": {\n",
        "        \"content\": \"Literature analysis and advanced composition\",\n",
        "        \"difficulty\": \"hard\"\n",
        "    }\n",
        "}\n",
        "\n",
        "\n",
        "# Simulate a quiz and return the score\n",
        "def take_quiz():\n",
        "    import random\n",
        "    score = random.randint(0, 100)\n",
        "    return score\n",
        "\n",
        "\n",
        "# Determine the appropriate learning material based on the score\n",
        "def recommend_material(score, subject):\n",
        "    if score < 30:\n",
        "        if subject == \"math\":\n",
        "            return learning_materials[\"easy_math\"]\n",
        "        else:\n",
        "            return learning_materials[\"easy_language\"]\n",
        "    elif score < 70:\n",
        "        if subject == \"math\":\n",
        "            return learning_materials[\"medium_math\"]\n",
        "        else:\n",
        "            return learning_materials[\"medium_language\"]\n",
        "    else:\n",
        "        if subject == \"math\":\n",
        "            return learning_materials[\"hard_math\"]\n",
        "        else:\n",
        "            return learning_materials[\"hard_language\"]\n",
        "\n",
        "\n",
        "# Main function to run the personalized learning system\n",
        "def personalized_learning():\n",
        "    subject = input(\"Please enter the subject (math or language): \")\n",
        "    score = take_quiz()\n",
        "    print(f\"Your quiz score is: {score}\")\n",
        "    recommended = recommend_material(score, subject)\n",
        "    print(f\"Based on your score, we recommend the following learning material:\")\n",
        "    print(f\"Content: {recommended['content']}\")\n",
        "    print(f\"Difficulty: {recommended['difficulty']}\")\n",
        "\n",
        "\n",
        "if __name__ == \"__main__\":\n",
        "    personalized_learning()"
      ]
    }
  ]
}